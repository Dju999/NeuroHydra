{
 "cells": [
  {
   "cell_type": "markdown",
   "metadata": {
    "deletable": true,
    "editable": true
   },
   "source": [
    "# Пример нейросетки для генерации рекомендаций"
   ]
  },
  {
   "cell_type": "markdown",
   "metadata": {},
   "source": [
    "## Генерация данных"
   ]
  },
  {
   "cell_type": "code",
   "execution_count": 177,
   "metadata": {
    "collapsed": false
   },
   "outputs": [],
   "source": [
    "def get_train_item():\n",
    "    # генерим тензоры из набора фильмов пользователя\n",
    "    sample_session = SAMPLE_DATASET[np.random.randint(0,high = USER_NUM-1)]\n",
    "    # имитируем дэк, возвращаем как бы указатели на два конца дэка\n",
    "    return Variable(torch.from_numpy(sample_session[:-1]).long()), Variable(torch.from_numpy(sample_session[1:]).long())\n",
    "\n",
    "#моделируем доступный контент\n",
    "CONTENT_NUM = 1000\n",
    "USER_NUM = 10000\n",
    "SAMPLE_DATASET = [] # пусть будет глобальная константа\n",
    "\n",
    "content_list = np.array([abs(int(i)) for i in np.random.randn(content_num)*100])\n",
    "# генерим случайную выборку фильмов для всех пользователей\n",
    "for i in xrange(user_num):\n",
    "    samp_len = np.random.randint(low = 3, high = 300) # сколько контента посмотрел пользователь\n",
    "    SAMPLE_DATASET.append(np.random.choice(content_list, size = samp_len, replace=False))\n"
   ]
  },
  {
   "cell_type": "markdown",
   "metadata": {},
   "source": [
    "## Model"
   ]
  },
  {
   "cell_type": "code",
   "execution_count": 155,
   "metadata": {
    "collapsed": true
   },
   "outputs": [],
   "source": [
    "import numpy as np\n",
    "import time\n",
    "#-- для RNN используем torch --\n",
    "import torch\n",
    "import torch.nn as nn\n",
    "from torch.autograd import Variable\n",
    "#----------------"
   ]
  },
  {
   "cell_type": "code",
   "execution_count": 192,
   "metadata": {
    "collapsed": true
   },
   "outputs": [],
   "source": [
    "# сетка\n",
    "class RNN(nn.Module):\n",
    "    def __init__(self, input_size, hidden_size, n_hidden_layers, output_size):\n",
    "        '''\n",
    "        n_layers - число скрытых слоёв\n",
    "        hidden_size - число нейронов в скрытом слое\n",
    "        input_size == output_size - размер библиотеки контента\n",
    "        '''\n",
    "        super(RNN, self).__init__()\n",
    "        self.input_size = input_size\n",
    "        self.hidden_size = hidden_size\n",
    "        self.output_size = output_size\n",
    "        self.n_layers = n_hidden_layers\n",
    "        # архитектура сети\n",
    "        self.encoder = nn.Embedding(input_size, hidden_size) \n",
    "        self.gru = nn.GRU(hidden_size, hidden_size, n_hidden_layers) \n",
    "        self.decoder = nn.Linear(hidden_size, output_size)\n",
    "    \n",
    "    def forward(self, input, hidden):\n",
    "        input = self.encoder(input.view(1, -1))\n",
    "        output, hidden = self.gru(input.view(1, 1, -1), hidden)\n",
    "        output = self.decoder(output.view(1, -1))\n",
    "        return output, hidden\n",
    "\n",
    "    def init_hidden(self):\n",
    "        return Variable(torch.zeros(self.n_layers, 1, self.hidden_size))\n",
    "    \n",
    "# рекомендательная система\n",
    "class NeuroHydra():\n",
    "    def __init__(self, neural_network):\n",
    "        ''' На вход принимаем модельку и \n",
    "        вектор доступного контента\n",
    "        '''\n",
    "        self.net = neural_network\n",
    "        self.loss = 0\n",
    "        self.all_losses = []\n",
    "    \n",
    "    def zero_state(self):\n",
    "        self.net.zero_grad()\n",
    "        self.criterion = nn.CrossEntropyLoss()\n",
    "        \n",
    "    def train(self, inp, target):\n",
    "        # начальное состояние\n",
    "        self.zero_state()\n",
    "        chunk_len = int(inp.size()[0])\n",
    "        loss = 0\n",
    "        # запускаем процесс обучения\n",
    "        hidden = self.net.init_hidden()\n",
    "        for c in range(chunk_len): # итерируем по чанкам\n",
    "            output, hidden = self.net(inp[c], hidden) # encoder->GRU(LTSM ячейка)->decoder\n",
    "            self.loss += self.criterion(input = output, target = target[c])\n",
    "        self.loss.backward() # вычисляем градиент\n",
    "        self.optimizer.step()\n",
    "        return self.loss.data[0] / chunk_len # усредняем потери\n",
    "        \n",
    "    def evaluate(user_history = [7029], num_recommed=10, temperature=0.8):\n",
    "        ''' Этап эксплуатации сети\n",
    "        на вход получаем вектор фильмов пользователя user_history\n",
    "        генерируем по ним num_recommed рекомендаций\n",
    "        temperature - чем ниже, тем разнообразней рекомендации\n",
    "        '''\n",
    "        prime_input = torch.from_numpy(np.array(user_history)).long()\n",
    "        predicted = np.array([])\n",
    "        # \"прогреваем\" сетку историей смотрения юзера\n",
    "        hidden = self.net.init_hidden()\n",
    "        for p in prime_input[:-1]:\n",
    "            _, hidden = self.net(p, hidden)\n",
    "        inp = prime_input[-1]\n",
    "        for p in range(num_recommed):\n",
    "            output, hidden = self.net(inp, hidden)\n",
    "            # нахлобучиваем софтмакс на полносвязный слой\n",
    "            output_dist = output.data.view(-1).div(temperature).exp() \n",
    "            recommend = torch.multinomial(output_dist, 1)[0]\n",
    "            predicted = np.append(predicted, recommend)\n",
    "            inp = recommend\n",
    "        return predicted\n",
    "\n",
    "    def learn_model(self, lr, n_epoch):\n",
    "        start = time.time()\n",
    "        loss_avg = 0\n",
    "        self.optimizer = torch.optim.Adam(self.net.parameters(), lr=lr)\n",
    "        self.n_epoch = n_epoch\n",
    "        for epoch in range(n_epoch):\n",
    "            inp, target = get_train_item() # выдёргиваем случайного пользователя\n",
    "            loss = self.train(inp, target)\n",
    "            loss_avg += loss\n",
    "            self.all_losses.append(loss_avg)"
   ]
  },
  {
   "cell_type": "markdown",
   "metadata": {},
   "source": [
    "## Обучаем модель"
   ]
  },
  {
   "cell_type": "code",
   "execution_count": null,
   "metadata": {
    "collapsed": false
   },
   "outputs": [],
   "source": [
    "# параметры из nn_config можно подбирать\n",
    "\n",
    "nn_config = {'input_size': content_list.shape[0],\\\n",
    "             'hidden_size' : 100,\\\n",
    "             'n_hidden_layers' : 1,\\\n",
    "             'output_size': content_list.shape[0]}\n",
    "learn_config = { 'n_epoch' : 2000,\\\n",
    "                 'lr' : 0.005 }\n",
    "\n",
    "rnn = RNN(**nn_config)\n",
    "recommender = NeuroHydra(rnn)\n",
    "recommender.learn_model(**learn_config)"
   ]
  },
  {
   "cell_type": "markdown",
   "metadata": {},
   "source": [
    "### Обучение модели - смотри график потерь"
   ]
  },
  {
   "cell_type": "code",
   "execution_count": 194,
   "metadata": {
    "collapsed": false
   },
   "outputs": [
    {
     "data": {
      "text/plain": [
       "[<matplotlib.lines.Line2D at 0x7f84532dca50>]"
      ]
     },
     "execution_count": 194,
     "metadata": {},
     "output_type": "execute_result"
    },
    {
     "data": {
      "image/png": "[encoded data removed]",
      "text/plain": [
       "<matplotlib.figure.Figure at 0x7f845359e3d0>"
      ]
     },
     "metadata": {},
     "output_type": "display_data"
    }
   ],
   "source": [
    "import matplotlib.pyplot as plt\n",
    "import matplotlib.ticker as ticker\n",
    "%matplotlib inline\n",
    "\n",
    "plt.figure()\n",
    "plt.plot(recommender.all_losses)"
   ]
  }
 ],
 "metadata": {
  "anaconda-cloud": {},
  "kernelspec": {
   "display_name": "Python [conda root]",
   "language": "python",
   "name": "conda-root-py"
  },
  "language_info": {
   "codemirror_mode": {
    "name": "ipython",
    "version": 2
   },
   "file_extension": ".py",
   "mimetype": "text/x-python",
   "name": "python",
   "nbconvert_exporter": "python",
   "pygments_lexer": "ipython2",
   "version": "2.7.13"
  }
 },
 "nbformat": 4,
 "nbformat_minor": 2
}
