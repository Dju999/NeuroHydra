{
 "cells": [
  {
   "cell_type": "markdown",
   "metadata": {
    "deletable": true,
    "editable": true
   },
   "source": [
    "# Пример нейросетки для генерации рекомендаций"
   ]
  },
  {
   "cell_type": "markdown",
   "metadata": {
    "deletable": true,
    "editable": true
   },
   "source": [
    "## Тестовые данные IVI.ru"
   ]
  },
  {
   "cell_type": "code",
   "execution_count": 616,
   "metadata": {
    "collapsed": false,
    "deletable": true,
    "editable": true
   },
   "outputs": [
    {
     "name": "stdout",
     "output_type": "stream",
     "text": [
      "   user_index     item_id\n",
      "0  1677306600  2011099417\n",
      "1  1677306600 -1495220568\n",
      "2  1677306600  1642882038\n",
      "train samle len: 743885\n",
      "--------------------\n",
      "user_index\n",
      "-2147407952    [-549996512, -14855385, 6761694, 510527058, 17...\n",
      "-2147298847    [-672834242, -177246609, -14855385, 6761694, 1...\n",
      "Name: item_id, dtype: object\n",
      "uniq users: 72529\n"
     ]
    }
   ],
   "source": [
    "import pandas as pd\n",
    "import numpy as np\n",
    "\n",
    "# загружаем данные\n",
    "raw_watch = pd.read_csv('./test_task/content_watch.csv', sep = ',', usecols=[0,1]) # только пары user_id - item_id\n",
    "print raw_watch.head(3)\n",
    "print 'train samle len: {}\\n{}'.format(raw_watch.shape[0], '-'*20)\n",
    "\n",
    "# аггрегируем сессии смотрения пользователей\n",
    "USER_SESSIONS = (raw_watch.groupby('user_index')['item_id'].apply(np.array).apply(np.unique))\n",
    "# важный момент - удаляем сессии, где меньше двух просмотров контента, т.к. на них нельзя обучится\n",
    "LEARN_SAMPLE = USER_SESSIONS[USER_SESSIONS.apply(len) > 1]\n",
    "print LEARN_SAMPLE.head(2)\n",
    "print 'uniq users: {}'.format(LEARN_SAMPLE.shape[0])"
   ]
  },
  {
   "cell_type": "code",
   "execution_count": 617,
   "metadata": {
    "collapsed": false
   },
   "outputs": [
    {
     "data": {
      "text/plain": [
       "user_index\n",
       "-2146936447    [-953257789]\n",
       "Name: item_id, dtype: object"
      ]
     },
     "execution_count": 617,
     "metadata": {},
     "output_type": "execute_result"
    }
   ],
   "source": [
    "# загружаем данные для теста\n",
    "TEST_SESSIONS = pd.read_csv('./test_task/test_set.csv', sep=',')\\\n",
    "                  .groupby('user_index')['item_id']\\\n",
    "                  .apply(np.array).apply(np.unique)\n",
    "TEST_SESSIONS.head(1)"
   ]
  },
  {
   "cell_type": "markdown",
   "metadata": {
    "deletable": true,
    "editable": true
   },
   "source": [
    "## Baseline - метод ассоциаций"
   ]
  },
  {
   "cell_type": "markdown",
   "metadata": {},
   "source": [
    "почитать тут: http://citeseerx.ist.psu.edu/viewdoc/download?doi=10.1.1.428.6731&rep=rep1&type=pdf"
   ]
  },
  {
   "cell_type": "code",
   "execution_count": 618,
   "metadata": {
    "collapsed": false
   },
   "outputs": [
    {
     "name": "stdout",
     "output_type": "stream",
     "text": [
      "(7245,) (108124,)\n"
     ]
    }
   ],
   "source": [
    "# собираем полные списки пользователей и фильмов (трейн + тест)\n",
    "content = (raw_watch[['item_id']]\\\n",
    "    .append(pd.read_csv('./test_task/test_set.csv', sep=',', usecols = ['item_id']), ignore_index = True)\\\n",
    "    .item_id).drop_duplicates().reset_index(drop=True)\n",
    "users = (raw_watch[['user_index']]\\\n",
    "    .append(pd.read_csv('./test_task/test_set.csv', sep=',', usecols = ['user_index']), ignore_index = True)\\\n",
    "    .user_index).drop_duplicates().reset_index(drop=True)\n",
    "# строим индексы по полученному набору\n",
    "content_index = {y : x for x,y in content.to_dict().iteritems() }\n",
    "user_index = {y : x for x,y in users.to_dict().iteritems() }\n",
    "print content.shape, users.shape"
   ]
  },
  {
   "cell_type": "code",
   "execution_count": 619,
   "metadata": {
    "collapsed": false,
    "deletable": true,
    "editable": true
   },
   "outputs": [
    {
     "name": "stdout",
     "output_type": "stream",
     "text": [
      "CONTENT_NUM = 7245,USER_NUM = 108124,SESSIONS_NUM = 699566\n",
      "CPU times: user 4.06 s, sys: 0 ns, total: 4.06 s\n",
      "Wall time: 4.05 s\n"
     ]
    }
   ],
   "source": [
    "%%time\n",
    "# сессии смотрения\n",
    "LEARN_SAMPLE = LEARN_SAMPLE.reset_index()\n",
    "# длина сессии смотрения (потом пригодится для контроля)\n",
    "LEARN_SAMPLE['ses_len'] = LEARN_SAMPLE.apply(lambda x: x[1].shape[0] ,axis=1)\n",
    "# по столбцам - идентификаторы пользователей\n",
    "LEARN_SAMPLE['user_ind'] = LEARN_SAMPLE.apply(lambda x: tuple(np.ones(x[2])*x[0]), axis=1)\n",
    "# индексы строк\n",
    "user_ind = np.concatenate(LEARN_SAMPLE.user_ind.values, axis=0) # идентификаторы пользователей\n",
    "sparse_users = [user_index[i] for i in user_ind]\n",
    "# индексы столбцов\n",
    "content_ind = np.concatenate(LEARN_SAMPLE.item_id.values, axis=0)\n",
    "sparse_content = [content_index[i] for i in content_ind]\n",
    "# сохраняем константы для матрицы просмотров\n",
    "CONTENT_NUM = len(content_index)\n",
    "USER_NUM =  len(user_index)\n",
    "SESSIONS_NUM = LEARN_SAMPLE['ses_len'].sum()\n",
    "print 'CONTENT_NUM = {},USER_NUM = {},SESSIONS_NUM = {}'.format(CONTENT_NUM, USER_NUM, SESSIONS_NUM)"
   ]
  },
  {
   "cell_type": "code",
   "execution_count": 1038,
   "metadata": {
    "collapsed": false
   },
   "outputs": [
    {
     "data": {
      "text/plain": [
       "<matplotlib.axes._subplots.AxesSubplot at 0x7ff585478a50>"
      ]
     },
     "execution_count": 1038,
     "metadata": {},
     "output_type": "execute_result"
    },
    {
     "data": {
      "image/png": "[encoded data removed]",
      "text/plain": [
       "<matplotlib.figure.Figure at 0x7ff585389cd0>"
      ]
     },
     "metadata": {},
     "output_type": "display_data"
    }
   ],
   "source": [
    "%matplotlib inline\n",
    "# построим распределение пользователей по длине сессии\n",
    "LEARN_SAMPLE.groupby(['ses_len'])['user_index']\\\n",
    "        .agg('count')\\\n",
    "        .sort_values(ascending=False).head(50)\\\n",
    "        .plot(kind = 'bar', title = 'Session len distribution')"
   ]
  },
  {
   "cell_type": "code",
   "execution_count": 620,
   "metadata": {
    "collapsed": false,
    "deletable": true,
    "editable": true
   },
   "outputs": [
    {
     "data": {
      "text/plain": [
       "<7245x108124 sparse matrix of type '<type 'numpy.float64'>'\n",
       "\twith 699566 stored elements in Compressed Sparse Row format>"
      ]
     },
     "execution_count": 620,
     "metadata": {},
     "output_type": "execute_result"
    }
   ],
   "source": [
    "# формируем матрицу просмотров\n",
    "from scipy import sparse\n",
    "from sklearn.preprocessing import binarize\n",
    "V = sparse.csr_matrix((np.ones( SESSIONS_NUM ),\\\n",
    "                      (sparse_content, sparse_users)),\\\n",
    "                      shape=(CONTENT_NUM , USER_NUM))\n",
    "V"
   ]
  },
  {
   "cell_type": "code",
   "execution_count": 621,
   "metadata": {
    "collapsed": false
   },
   "outputs": [
    {
     "name": "stdout",
     "output_type": "stream",
     "text": [
      "CPU times: user 5.08 s, sys: 148 ms, total: 5.23 s\n",
      "Wall time: 5.23 s\n"
     ]
    }
   ],
   "source": [
    "%%time\n",
    "xUy = V.dot(V.T) # сколько пользователей смотрели одновременно x(строка) и y(столбец)\n",
    "# суммируем элементы каждой строки - сколько пользователей смотрело x вместе с другими фильмами всего\n",
    "x = sparse.csr_matrix(V.sum(axis=1))\n",
    "# умножаем построчно если x не смотрели с y, то в magic будет 0, иначе будет общее число , которые смотрели x\n",
    "total_x = binarize(xUy).multiply(x.T)\n",
    "# из общего числа пользователей, которые смотрели x вычитаем тех, которые смотрели x и у\n",
    "_xUy = total_x - xUy\n",
    "# достаём индексы ненулевых элементов, на которые будем в дальнейшем делить\n",
    "rows, cols = _xUy.nonzero()\n",
    "xUy_array = xUy[rows, cols].A.reshape(-1)\n",
    "# получаем матрицу схожести S\n",
    "S = sparse.csr_matrix((xUy_array / _xUy.data, (rows, cols)), xUy.shape)"
   ]
  },
  {
   "cell_type": "markdown",
   "metadata": {},
   "source": [
    "#### Пример рекомендаций"
   ]
  },
  {
   "cell_type": "markdown",
   "metadata": {},
   "source": [
    "Берём сессию смотрения пользователя, достаём из матрицы S для последнего просмотра в сессии достаем top-20 релевантного контента"
   ]
  },
  {
   "cell_type": "code",
   "execution_count": 1029,
   "metadata": {
    "collapsed": false
   },
   "outputs": [
    {
     "name": "stdout",
     "output_type": "stream",
     "text": [
      "recommendations  [2631 6367 6771 4146 1963 6686 6173 5670 5259 3128 6750 6446 2628 7062 7060\n",
      " 6737 6148 6773 6776 6778]\n",
      "true history [594, 4403, 368, 6666, 96, 3072, 948, 434, 251, 904, 319, 16, 25, 63, 875]\n",
      "true positive  []\n",
      "recall = 0.0\n"
     ]
    },
    {
     "data": {
      "text/plain": [
       "0.0"
      ]
     },
     "execution_count": 1029,
     "metadata": {},
     "output_type": "execute_result"
    }
   ],
   "source": [
    "def recall(user_id, verbose = False):\n",
    "    true_view = [content_index[i] for i in TEST_SESSIONS.loc[user_id]]\n",
    "    history = np.unique(USER_SESSIONS.loc[user_id]) # в сессии оставляем только уникальные просмотры контента\n",
    "    history = [content_index[i] for i in history] # достаём индексы контента\n",
    "    not_view =  np.setdiff1d(xrange(CONTENT_NUM), history) # контент, который не смотрели\n",
    "    # вишенка на торте - находим для каждого фильма максимальную релевантность, пользуясь историей пользователя\n",
    "    relevant_content = ( (S[history,:].max(axis=0)).A[0])[not_view].argsort()[-20:][::-1]\n",
    "    TP = np.intersect1d(relevant_content, true_view) # true positive, порекомендовали и подошло\n",
    "    recall = TP.shape[0] /  float(len(true_view))\n",
    "    if verbose:\n",
    "        print 'recommendations ', relevant_content\n",
    "        print 'true history', true_view\n",
    "        print 'true positive ', TP\n",
    "        print 'recall = {}'.format( recall )\n",
    "    return recall\n",
    "\n",
    "random_user = np.random.choice(TEST_SESSIONS.index.values)\n",
    "recall(random_user,verbose = True)"
   ]
  },
  {
   "cell_type": "markdown",
   "metadata": {},
   "source": [
    "### Считаем качество модели"
   ]
  },
  {
   "cell_type": "code",
   "execution_count": 1019,
   "metadata": {
    "collapsed": false
   },
   "outputs": [
    {
     "name": "stdout",
     "output_type": "stream",
     "text": [
      "avg_recall = 0.52%\n"
     ]
    }
   ],
   "source": [
    "total_recall = [recall(user,verbose = False) for user in TEST_SESSIONS.index]\n",
    "print 'avg_recall = {:.2f}%'.format(100*sum(total_recall) / float(len(total_recall)))"
   ]
  },
  {
   "cell_type": "markdown",
   "metadata": {
    "deletable": true,
    "editable": true
   },
   "source": [
    "## Model"
   ]
  },
  {
   "cell_type": "code",
   "execution_count": null,
   "metadata": {
    "collapsed": true
   },
   "outputs": [],
   "source": [
    "# определяем константы\n",
    "USER_NUM = USER_SESSIONS.shape[0]\n",
    "\n",
    "def get_item():\n",
    "    # генерим тензоры из набора фильмов пользователя\n",
    "    ind = np.random.randint(0,high = USER_NUM-1)\n",
    "    ses = np.array(USER_SESSIONS.iloc[ind]) # сессия\n",
    "    # заменяем фильмы в сессии на их индексы\n",
    "    sample_session = np.array([content_index[i] for i in USER_SESSIONS.iloc[ind]])\n",
    "    return Variable(torch.from_numpy(sample_session[:-1]).long()), Variable(torch.from_numpy(sample_session[1:]).long())\n",
    "\n",
    "get_item()"
   ]
  },
  {
   "cell_type": "code",
   "execution_count": 155,
   "metadata": {
    "collapsed": true,
    "deletable": true,
    "editable": true
   },
   "outputs": [],
   "source": [
    "import numpy as np\n",
    "import time\n",
    "#-- для RNN используем torch --\n",
    "import torch\n",
    "import torch.nn as nn\n",
    "from torch.autograd import Variable\n",
    "#----------------"
   ]
  },
  {
   "cell_type": "code",
   "execution_count": 865,
   "metadata": {
    "collapsed": true,
    "deletable": true,
    "editable": true
   },
   "outputs": [],
   "source": [
    "# сетка\n",
    "class RNN(nn.Module):\n",
    "    def __init__(self, input_size, hidden_size, n_hidden_layers, output_size):\n",
    "        '''\n",
    "        n_layers - число скрытых слоёв\n",
    "        hidden_size - число нейронов в скрытом слое\n",
    "        input_size == output_size - размер библиотеки контента\n",
    "        '''\n",
    "        super(RNN, self).__init__()\n",
    "        self.input_size = input_size\n",
    "        self.hidden_size = hidden_size\n",
    "        self.output_size = output_size\n",
    "        self.n_layers = n_hidden_layers\n",
    "        # архитектура сети\n",
    "        self.encoder = nn.Embedding(input_size, hidden_size) \n",
    "        self.gru = nn.GRU(hidden_size, hidden_size, n_hidden_layers) \n",
    "        self.decoder = nn.Linear(hidden_size, output_size)\n",
    "    \n",
    "    def forward(self, input, hidden):\n",
    "        input = self.encoder(input.view(1, -1))\n",
    "        output, hidden = self.gru(input.view(1, 1, -1), hidden)\n",
    "        output = self.decoder(output.view(1, -1))\n",
    "        return output, hidden\n",
    "\n",
    "    def init_hidden(self):\n",
    "        return Variable(torch.zeros(self.n_layers, 1, self.hidden_size))\n",
    "    \n",
    "# рекомендательная система\n",
    "class NeuroHydra():\n",
    "    def __init__(self, neural_network):\n",
    "        ''' На вход принимаем модельку и \n",
    "        вектор доступного контента\n",
    "        '''\n",
    "        self.net = neural_network\n",
    "        self.loss = 0\n",
    "        self.all_losses = []\n",
    "    \n",
    "    def zero_state(self):\n",
    "        self.net.zero_grad()\n",
    "        self.criterion = nn.CrossEntropyLoss()\n",
    "        \n",
    "    def train(self, inp, target):\n",
    "        # начальное состояние\n",
    "        self.zero_state()\n",
    "        #print inp.size()\n",
    "        chunk_len = int(inp.size()[0])\n",
    "        loss = 0\n",
    "        # запускаем процесс обучения\n",
    "        hidden = self.net.init_hidden()\n",
    "        for c in range(chunk_len): # итерируем по чанкам\n",
    "            output, hidden = self.net(inp[c], hidden) # encoder->GRU(LTSM ячейка)->decoder\n",
    "            loss += self.criterion(input = output, target = target[c])\n",
    "        loss.backward() # вычисляем градиент\n",
    "        self.optimizer.step()\n",
    "        return loss.data[0] / chunk_len # усредняем потери\n",
    "        \n",
    "    def evaluate(user_history = [7029], num_recommed=10, temperature=0.8):\n",
    "        ''' Этап эксплуатации сети\n",
    "        на вход получаем вектор фильмов пользователя user_history\n",
    "        генерируем по ним num_recommed рекомендаций\n",
    "        temperature - чем ниже, тем разнообразней рекомендации\n",
    "        '''\n",
    "        prime_input = torch.from_numpy(np.array(user_history)).long()\n",
    "        predicted = np.array([])\n",
    "        # \"прогреваем\" сетку историей смотрения юзера\n",
    "        hidden = self.net.init_hidden()\n",
    "        for p in prime_input[:-1]:\n",
    "            _, hidden = self.net(p, hidden)\n",
    "        inp = prime_input[-1]\n",
    "        for p in range(num_recommed):\n",
    "            output, hidden = self.net(inp, hidden)\n",
    "            # нахлобучиваем софтмакс на полносвязный слой\n",
    "            output_dist = output.data.view(-1).div(temperature).exp() \n",
    "            recommend = torch.multinomial(output_dist, 1)[0]\n",
    "            predicted = np.append(predicted, recommend)\n",
    "            inp = recommend\n",
    "        return predicted\n",
    "\n",
    "    def learn_model(self, lr, n_epoch):\n",
    "        start = time.time()\n",
    "        loss_avg = 0\n",
    "        self.optimizer = torch.optim.Adam(self.net.parameters(), lr=lr)\n",
    "        self.n_epoch = n_epoch\n",
    "        plot_every = 10\n",
    "        for epoch in range(n_epoch):\n",
    "            inp, target = get_item() # выдёргиваем случайного пользователя\n",
    "            loss = self.train(inp, target)\n",
    "            loss_avg += loss\n",
    "            if epoch % plot_every == 0: # иногда обнуляем потери и смотри результат\n",
    "                self.all_losses.append(loss_avg / plot_every)\n",
    "                loss_avg = 0"
   ]
  },
  {
   "cell_type": "markdown",
   "metadata": {
    "deletable": true,
    "editable": true
   },
   "source": [
    "## Обучаем модель"
   ]
  },
  {
   "cell_type": "code",
   "execution_count": 873,
   "metadata": {
    "collapsed": false,
    "deletable": true,
    "editable": true
   },
   "outputs": [],
   "source": [
    "# параметры из nn_config можно подбирать\n",
    "DATA_TYPE = 'films'\n",
    "content_num = len(content_index)\n",
    "\n",
    "nn_config = {'input_size': content_num,\\\n",
    "             'hidden_size' : 100,\\\n",
    "             'n_hidden_layers' : 2,\\\n",
    "             'output_size': content_num}\n",
    "learn_config = { 'n_epoch' : 10000,\\\n",
    "                 'lr' : 0.005 }\n",
    "\n",
    "rnn = RNN(**nn_config)\n",
    "recommender = NeuroHydra(rnn)\n",
    "recommender.learn_model(**learn_config)"
   ]
  },
  {
   "cell_type": "markdown",
   "metadata": {
    "deletable": true,
    "editable": true
   },
   "source": [
    "### Обучение модели - смотри график потерь"
   ]
  },
  {
   "cell_type": "code",
   "execution_count": 874,
   "metadata": {
    "collapsed": false,
    "deletable": true,
    "editable": true
   },
   "outputs": [
    {
     "data": {
      "text/plain": [
       "[<matplotlib.lines.Line2D at 0x7f842b9b6690>]"
      ]
     },
     "execution_count": 874,
     "metadata": {},
     "output_type": "execute_result"
    },
    {
     "data": {
      "image/png": "[encoded data removed]",
      "text/plain": [
       "<matplotlib.figure.Figure at 0x7f8432312290>"
      ]
     },
     "metadata": {},
     "output_type": "display_data"
    }
   ],
   "source": [
    "import matplotlib.pyplot as plt\n",
    "import matplotlib.ticker as ticker\n",
    "%matplotlib inline\n",
    "\n",
    "plt.figure()\n",
    "plt.title('Entropy loss')\n",
    "plt.plot(recommender.all_losses[1:])"
   ]
  }
 ],
 "metadata": {
  "anaconda-cloud": {},
  "kernelspec": {
   "display_name": "Python [conda root]",
   "language": "python",
   "name": "conda-root-py"
  },
  "language_info": {
   "codemirror_mode": {
    "name": "ipython",
    "version": 2
   },
   "file_extension": ".py",
   "mimetype": "text/x-python",
   "name": "python",
   "nbconvert_exporter": "python",
   "pygments_lexer": "ipython2",
   "version": "2.7.13"
  }
 },
 "nbformat": 4,
 "nbformat_minor": 2
}
