{
 "cells": [
  {
   "cell_type": "markdown",
   "metadata": {
    "deletable": true,
    "editable": true
   },
   "source": [
    "# Пример нейросетки для генерации рекомендаций"
   ]
  },
  {
   "cell_type": "markdown",
   "metadata": {
    "deletable": true,
    "editable": true
   },
   "source": [
    "## Тестовые данные IVI.ru"
   ]
  },
  {
   "cell_type": "code",
   "execution_count": 1,
   "metadata": {
    "collapsed": false,
    "deletable": true,
    "editable": true
   },
   "outputs": [
    {
     "name": "stdout",
     "output_type": "stream",
     "text": [
      "   user_index     item_id\n",
      "0  1677306600  2011099417\n",
      "1  1677306600 -1495220568\n",
      "2  1677306600  1642882038\n",
      "train samle len: 743885\n",
      "--------------------\n",
      "user_index\n",
      "-2147407952    [510527058, -549996512, -14855385, 6761694, 17...\n",
      "-2147298847    [-14855385, -672834242, -177246609, 6761694, 1...\n",
      "Name: item_id, dtype: object\n",
      "uniq users: 72614\n"
     ]
    }
   ],
   "source": [
    "import pandas as pd\n",
    "\n",
    "# загружаем данные\n",
    "raw_watch = pd.read_csv('./test_task/content_watch.csv', sep = ',', usecols=[0,1]) # только пары user_id - item_id\n",
    "print raw_watch.head(3)\n",
    "print 'train samle len: {}\\n{}'.format(raw_watch.shape[0], '-'*20)\n",
    "\n",
    "# аггрегируем сессии смотрения пользователей\n",
    "USER_SESSIONS = raw_watch.groupby('user_index')['item_id'].apply(list)\n",
    "# важный момент - удаляем сессии, где меньше двух просмотров контента, т.к. на них нельзя обучится\n",
    "USER_SESSIONS = USER_SESSIONS[USER_SESSIONS.apply(len) > 1]\n",
    "print USER_SESSIONS.head(2)\n",
    "print 'uniq users: {}'.format(USER_SESSIONS.shape[0])"
   ]
  },
  {
   "cell_type": "code",
   "execution_count": 2,
   "metadata": {
    "collapsed": false
   },
   "outputs": [
    {
     "name": "stdout",
     "output_type": "stream",
     "text": [
      "Total films in sample: 7245\n"
     ]
    }
   ],
   "source": [
    "# вытаскиваем уникальные единицы контента (трейн + тест)\n",
    "content = raw_watch[['item_id']]\\\n",
    "    .append(pd.read_csv('./test_task/test_set.csv', sep=',', usecols = ['item_id']), ignore_index = True)\\\n",
    "    .item_id\n",
    "content = content.drop_duplicates()\n",
    "content.reset_index(drop=True, inplace=True)\n",
    "content_index = {y:x for x,y in content.to_dict().iteritems()} # генерируем индекс для базы контента\n",
    "print 'Total films in sample: {}'.format(len(content_index))"
   ]
  },
  {
   "cell_type": "code",
   "execution_count": 864,
   "metadata": {
    "collapsed": false,
    "deletable": true,
    "editable": true
   },
   "outputs": [],
   "source": [
    "# определяем константы\n",
    "USER_NUM = USER_SESSIONS.shape[0]\n",
    "\n",
    "def get_item():\n",
    "    # генерим тензоры из набора фильмов пользователя\n",
    "    ind = np.random.randint(0,high = USER_NUM-1)\n",
    "    ses = np.array(USER_SESSIONS.iloc[ind]) # сессия\n",
    "    # заменяем фильмы в сессии на их индексы\n",
    "    sample_session = np.array([content_index[i] for i in USER_SESSIONS.iloc[ind]])\n",
    "    return Variable(torch.from_numpy(sample_session[:-1]).long()), Variable(torch.from_numpy(sample_session[1:]).long())\n",
    "\n",
    "get_item()"
   ]
  },
  {
   "cell_type": "markdown",
   "metadata": {
    "deletable": true,
    "editable": true
   },
   "source": [
    "## Model"
   ]
  },
  {
   "cell_type": "code",
   "execution_count": 155,
   "metadata": {
    "collapsed": true,
    "deletable": true,
    "editable": true
   },
   "outputs": [],
   "source": [
    "import numpy as np\n",
    "import time\n",
    "#-- для RNN используем torch --\n",
    "import torch\n",
    "import torch.nn as nn\n",
    "from torch.autograd import Variable\n",
    "#----------------"
   ]
  },
  {
   "cell_type": "code",
   "execution_count": 865,
   "metadata": {
    "collapsed": true,
    "deletable": true,
    "editable": true
   },
   "outputs": [],
   "source": [
    "# сетка\n",
    "class RNN(nn.Module):\n",
    "    def __init__(self, input_size, hidden_size, n_hidden_layers, output_size):\n",
    "        '''\n",
    "        n_layers - число скрытых слоёв\n",
    "        hidden_size - число нейронов в скрытом слое\n",
    "        input_size == output_size - размер библиотеки контента\n",
    "        '''\n",
    "        super(RNN, self).__init__()\n",
    "        self.input_size = input_size\n",
    "        self.hidden_size = hidden_size\n",
    "        self.output_size = output_size\n",
    "        self.n_layers = n_hidden_layers\n",
    "        # архитектура сети\n",
    "        self.encoder = nn.Embedding(input_size, hidden_size) \n",
    "        self.gru = nn.GRU(hidden_size, hidden_size, n_hidden_layers) \n",
    "        self.decoder = nn.Linear(hidden_size, output_size)\n",
    "    \n",
    "    def forward(self, input, hidden):\n",
    "        input = self.encoder(input.view(1, -1))\n",
    "        output, hidden = self.gru(input.view(1, 1, -1), hidden)\n",
    "        output = self.decoder(output.view(1, -1))\n",
    "        return output, hidden\n",
    "\n",
    "    def init_hidden(self):\n",
    "        return Variable(torch.zeros(self.n_layers, 1, self.hidden_size))\n",
    "    \n",
    "# рекомендательная система\n",
    "class NeuroHydra():\n",
    "    def __init__(self, neural_network):\n",
    "        ''' На вход принимаем модельку и \n",
    "        вектор доступного контента\n",
    "        '''\n",
    "        self.net = neural_network\n",
    "        self.loss = 0\n",
    "        self.all_losses = []\n",
    "    \n",
    "    def zero_state(self):\n",
    "        self.net.zero_grad()\n",
    "        self.criterion = nn.CrossEntropyLoss()\n",
    "        \n",
    "    def train(self, inp, target):\n",
    "        # начальное состояние\n",
    "        self.zero_state()\n",
    "        #print inp.size()\n",
    "        chunk_len = int(inp.size()[0])\n",
    "        loss = 0\n",
    "        # запускаем процесс обучения\n",
    "        hidden = self.net.init_hidden()\n",
    "        for c in range(chunk_len): # итерируем по чанкам\n",
    "            output, hidden = self.net(inp[c], hidden) # encoder->GRU(LTSM ячейка)->decoder\n",
    "            loss += self.criterion(input = output, target = target[c])\n",
    "        loss.backward() # вычисляем градиент\n",
    "        self.optimizer.step()\n",
    "        return loss.data[0] / chunk_len # усредняем потери\n",
    "        \n",
    "    def evaluate(user_history = [7029], num_recommed=10, temperature=0.8):\n",
    "        ''' Этап эксплуатации сети\n",
    "        на вход получаем вектор фильмов пользователя user_history\n",
    "        генерируем по ним num_recommed рекомендаций\n",
    "        temperature - чем ниже, тем разнообразней рекомендации\n",
    "        '''\n",
    "        prime_input = torch.from_numpy(np.array(user_history)).long()\n",
    "        predicted = np.array([])\n",
    "        # \"прогреваем\" сетку историей смотрения юзера\n",
    "        hidden = self.net.init_hidden()\n",
    "        for p in prime_input[:-1]:\n",
    "            _, hidden = self.net(p, hidden)\n",
    "        inp = prime_input[-1]\n",
    "        for p in range(num_recommed):\n",
    "            output, hidden = self.net(inp, hidden)\n",
    "            # нахлобучиваем софтмакс на полносвязный слой\n",
    "            output_dist = output.data.view(-1).div(temperature).exp() \n",
    "            recommend = torch.multinomial(output_dist, 1)[0]\n",
    "            predicted = np.append(predicted, recommend)\n",
    "            inp = recommend\n",
    "        return predicted\n",
    "\n",
    "    def learn_model(self, lr, n_epoch):\n",
    "        start = time.time()\n",
    "        loss_avg = 0\n",
    "        self.optimizer = torch.optim.Adam(self.net.parameters(), lr=lr)\n",
    "        self.n_epoch = n_epoch\n",
    "        plot_every = 10\n",
    "        for epoch in range(n_epoch):\n",
    "            inp, target = get_item() # выдёргиваем случайного пользователя\n",
    "            loss = self.train(inp, target)\n",
    "            loss_avg += loss\n",
    "            if epoch % plot_every == 0: # иногда обнуляем потери и смотри результат\n",
    "                self.all_losses.append(loss_avg / plot_every)\n",
    "                loss_avg = 0"
   ]
  },
  {
   "cell_type": "markdown",
   "metadata": {
    "deletable": true,
    "editable": true
   },
   "source": [
    "## Обучаем модель"
   ]
  },
  {
   "cell_type": "code",
   "execution_count": 873,
   "metadata": {
    "collapsed": false,
    "deletable": true,
    "editable": true
   },
   "outputs": [],
   "source": [
    "# параметры из nn_config можно подбирать\n",
    "DATA_TYPE = 'films'\n",
    "content_num = len(content_index)\n",
    "\n",
    "nn_config = {'input_size': content_num,\\\n",
    "             'hidden_size' : 100,\\\n",
    "             'n_hidden_layers' : 2,\\\n",
    "             'output_size': content_num}\n",
    "learn_config = { 'n_epoch' : 10000,\\\n",
    "                 'lr' : 0.005 }\n",
    "\n",
    "rnn = RNN(**nn_config)\n",
    "recommender = NeuroHydra(rnn)\n",
    "recommender.learn_model(**learn_config)"
   ]
  },
  {
   "cell_type": "markdown",
   "metadata": {
    "deletable": true,
    "editable": true
   },
   "source": [
    "### Обучение модели - смотри график потерь"
   ]
  },
  {
   "cell_type": "code",
   "execution_count": 874,
   "metadata": {
    "collapsed": false,
    "deletable": true,
    "editable": true
   },
   "outputs": [
    {
     "data": {
      "text/plain": [
       "[<matplotlib.lines.Line2D at 0x7f842b9b6690>]"
      ]
     },
     "execution_count": 874,
     "metadata": {},
     "output_type": "execute_result"
    },
    {
     "data": {
      "image/png": "[encoded data removed]",
      "text/plain": [
       "<matplotlib.figure.Figure at 0x7f8432312290>"
      ]
     },
     "metadata": {},
     "output_type": "display_data"
    }
   ],
   "source": [
    "import matplotlib.pyplot as plt\n",
    "import matplotlib.ticker as ticker\n",
    "%matplotlib inline\n",
    "\n",
    "plt.figure()\n",
    "plt.title('Entropy loss')\n",
    "plt.plot(recommender.all_losses[1:])"
   ]
  }
 ],
 "metadata": {
  "anaconda-cloud": {},
  "kernelspec": {
   "display_name": "Python [conda root]",
   "language": "python",
   "name": "conda-root-py"
  },
  "language_info": {
   "codemirror_mode": {
    "name": "ipython",
    "version": 2
   },
   "file_extension": ".py",
   "mimetype": "text/x-python",
   "name": "python",
   "nbconvert_exporter": "python",
   "pygments_lexer": "ipython2",
   "version": "2.7.13"
  }
 },
 "nbformat": 4,
 "nbformat_minor": 2
}
